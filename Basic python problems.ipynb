{
 "cells": [
  {
   "cell_type": "code",
   "execution_count": null,
   "id": "f42abb8a",
   "metadata": {},
   "outputs": [],
   "source": [
    "# Generating Binomial Distribution\n",
    "\n",
    "import numpy as np \n",
    "seed=int(input())\n",
    "n=int(input())\n",
    "p=float(input())\n",
    "np.random.seed(seed)\n",
    "s = np.random.binomial(n, p, 10)\n",
    "print(s)\n"
   ]
  },
  {
   "cell_type": "code",
   "execution_count": null,
   "id": "1664f6d1",
   "metadata": {},
   "outputs": [],
   "source": [
    "\n",
    "#Coloured cards\n",
    "\n",
    "x=float(input())\n",
    "y=float(input())\n",
    "#write your code here\n",
    "print(x/y)\n",
    "\n",
    "\n",
    "\n",
    "#Seating Arrangement\n",
    "\n",
    "n=int(input())\n",
    "result = (n-3)/(n-1)\n",
    "print(result)\n",
    "\n",
    "#Entrance Test\n",
    "\n",
    "from scipy.stats import norm\n",
    "\n",
    "m=float(input())#mean\n",
    "sd=float(input())#standard deviation\n",
    "\n",
    "print (norm(m,sd).cdf(90))\n",
    "\n",
    "\n"
   ]
  }
 ],
 "metadata": {
  "kernelspec": {
   "display_name": "Python 3",
   "language": "python",
   "name": "python3"
  },
  "language_info": {
   "codemirror_mode": {
    "name": "ipython",
    "version": 3
   },
   "file_extension": ".py",
   "mimetype": "text/x-python",
   "name": "python",
   "nbconvert_exporter": "python",
   "pygments_lexer": "ipython3",
   "version": "3.8.8"
  }
 },
 "nbformat": 4,
 "nbformat_minor": 5
}
