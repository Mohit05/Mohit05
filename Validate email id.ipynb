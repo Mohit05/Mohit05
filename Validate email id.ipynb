{
 "cells": [
  {
   "cell_type": "code",
   "execution_count": null,
   "id": "25592f72",
   "metadata": {},
   "outputs": [],
   "source": [
    "import re\n",
    "regex= '^[a-z0-9]+[\\._]?[a-z0-9]+[@]\\w+[.]\\w{2,3}$'  \n",
    "def checkmail(email):\n",
    "    #complete the function\n",
    "    #the function should return the strings \"invalid\" or \"valid\" based on the email ID entered\n",
    " if(re.search(regex,email)):\n",
    "     print(\"Valid Email\")   \n",
    " else:\n",
    "        print(\"Invalid Email\")   \n",
    "      \n",
    "if __name__ == '__main__' :   \n",
    "      \n",
    "    email = \"mohit.gupta@gmail.com\"  \n",
    "    checkmail(email)   \n",
    "  \n",
    "    email = \"pranav@c-acdc.com\"  \n",
    "    checkmail(email)   \n",
    "  \n",
    "    email = \"mht.gupta4@gmail.com\" \n",
    "print(checkmail(email))"
   ]
  }
 ],
 "metadata": {
  "kernelspec": {
   "display_name": "Python 3",
   "language": "python",
   "name": "python3"
  },
  "language_info": {
   "codemirror_mode": {
    "name": "ipython",
    "version": 3
   },
   "file_extension": ".py",
   "mimetype": "text/x-python",
   "name": "python",
   "nbconvert_exporter": "python",
   "pygments_lexer": "ipython3",
   "version": "3.8.8"
  }
 },
 "nbformat": 4,
 "nbformat_minor": 5
}
